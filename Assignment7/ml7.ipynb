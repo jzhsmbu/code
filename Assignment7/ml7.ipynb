{
 "cells": [
  {
   "cell_type": "code",
   "execution_count": 4,
   "id": "e4cf351c",
   "metadata": {},
   "outputs": [
    {
     "name": "stdout",
     "output_type": "stream",
     "text": [
      "10 8 7 2 3 6 9 1 4 5\n",
      "9 1 10 6 8 4 5 7 2 3\n"
     ]
    }
   ],
   "source": [
    "import pandas as pd\n",
    "from sklearn.inspection import permutation_importance\n",
    "from sklearn.linear_model import Ridge\n",
    "from sklearn.neural_network import MLPRegressor\n",
    "\n",
    "\n",
    "data_path = \"./\"\n",
    "train = pd.read_csv(data_path + 'data.csv')\n",
    "# print(train.head())\n",
    "feats = [f\"x{i}\" for i in range(1, 11)]\n",
    "X, Y = train[feats], train[\"y\"]\n",
    "\n",
    "lm = Ridge(alpha=0).fit(X, Y)\n",
    "imp_lm = permutation_importance(lm, X, Y, n_repeats=30, random_state=0)\n",
    "print(*(imp_lm.importances_mean.argsort()[::-1] + 1))\n",
    "\n",
    "mlp = MLPRegressor(hidden_layer_sizes=(128, 64), activation=\"relu\", batch_size=256, early_stopping=True).fit(X.values, Y)\n",
    "imp_mlp = permutation_importance(mlp, X.values, Y, n_repeats=30, random_state=0)\n",
    "print(*(imp_mlp.importances_mean.argsort()[::-1] + 1))"
   ]
  },
  {
   "cell_type": "code",
   "execution_count": null,
   "id": "a9b61a29",
   "metadata": {},
   "outputs": [],
   "source": []
  }
 ],
 "metadata": {
  "kernelspec": {
   "display_name": "Python 3 (ipykernel)",
   "language": "python",
   "name": "python3"
  },
  "language_info": {
   "codemirror_mode": {
    "name": "ipython",
    "version": 3
   },
   "file_extension": ".py",
   "mimetype": "text/x-python",
   "name": "python",
   "nbconvert_exporter": "python",
   "pygments_lexer": "ipython3",
   "version": "3.9.13"
  }
 },
 "nbformat": 4,
 "nbformat_minor": 5
}
