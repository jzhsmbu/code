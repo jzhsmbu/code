{
 "cells": [
  {
   "cell_type": "markdown",
   "id": "9e9cca05",
   "metadata": {},
   "source": [
    "# task6(Вариант13) - Цзян Чжэнхуа"
   ]
  },
  {
   "cell_type": "markdown",
   "id": "e43e058a",
   "metadata": {},
   "source": [
    "# нейронной сети метод nnetar(На языке R)"
   ]
  },
  {
   "cell_type": "markdown",
   "id": "2692e2cb",
   "metadata": {},
   "source": [
    "На основании предыдущих результатов была определена наиболее адекватная модель ARMA: SARMA(1,0,0)(0,0,1).\n",
    "\n",
    "Поэтому при определении параметров было выбрано p = 1 и P = 1, я попробовал тот же случай с большим P, но прогноз был лучше при P = 1.\n",
    "\n",
    "Вот часть кода на языке R.(Полные результаты выполнения находятся в файле task6.html)"
   ]
  },
  {
   "cell_type": "code",
   "execution_count": 2,
   "id": "298a291c",
   "metadata": {},
   "outputs": [],
   "source": [
    "# setwd(\"C:\\\\Users\\\\lenovo\\\\Desktop\\\\时间序列分析\\\\tsa6\")\n",
    "# dat <- read.csv(\"TrainingData.csv\")\n",
    "# dat <- dat[complete.cases(dat), ]\n",
    "\n",
    "# x <- ts(dat$Значение,start = c(2017,1),frequency = 12)\n",
    "# plot(x)\n",
    "\n",
    "# train_length <- length(x) - 12\n",
    "\n",
    "# Creating the training set\n",
    "# train <- window(x, end = c((train_length) %/% frequency(x) + start(x)[1], (train_length) %% frequency(x)))\n",
    "\n",
    "# Creating Test Sets\n",
    "# test <- window(x, start = c(train_length %/% frequency(x) + start(x)[1], (train_length %% frequency(x)) + 1))\n",
    "\n",
    "# print(train)\n",
    "# print(test)\n",
    "\n",
    "# SARMA(1,0,0)(0,0,1)\n",
    "\n",
    "# p <- 1\n",
    "# P <- 1\n",
    "# library(forecast)\n",
    "# nnet<- nnetar(train,p=p,P = P,size = 10 )\n",
    "\n",
    "# forecast_result <- forecast(nnet,h = 12)\n",
    "# plot(forecast_result)\n",
    "\n",
    "# summary(nnet)\n",
    "\n",
    "# plot(forecast_result, main=\"Forecast vs Actual\", xlab=\"Time\", ylab=\"Value\")"
   ]
  },
  {
   "cell_type": "markdown",
   "id": "3ae8bb1e",
   "metadata": {},
   "source": [
    "Полученные прогнозы выглядят следующим образом:"
   ]
  },
  {
   "cell_type": "code",
   "execution_count": 25,
   "id": "3f858c43",
   "metadata": {},
   "outputs": [],
   "source": [
    "# > forecast_result\n",
    "#           Jan      Feb      Mar      Apr      May      Jun      Jul      Aug\n",
    "# 2023                     1.291896 1.523808 1.725209 1.497491 1.354151 1.277801\n",
    "# 2024   1.801945 2.132518                                                      \n",
    "#           Sep      Oct      Nov      Dec\n",
    "# 2023   1.173041 1.402543 1.634440 1.763538\n",
    "# 2024    "
   ]
  },
  {
   "cell_type": "markdown",
   "id": "66a1da39",
   "metadata": {},
   "source": [
    "Сохраняйте прогнозы для последующего построения графиков."
   ]
  },
  {
   "cell_type": "code",
   "execution_count": 26,
   "id": "02bbc471",
   "metadata": {},
   "outputs": [],
   "source": [
    "z = [1.291896, 1.523808, 1.725209, 1.497491, 1.354151, 1.277801,\n",
    "              1.173041, 1.402543, 1.634440, 1.763538, 1.801945, 2.132518 ]"
   ]
  },
  {
   "cell_type": "markdown",
   "id": "6c9b758f",
   "metadata": {},
   "source": [
    "# метод random forest(На языке python)"
   ]
  },
  {
   "cell_type": "markdown",
   "id": "0c76517b",
   "metadata": {},
   "source": [
    "Подготовим данные."
   ]
  },
  {
   "cell_type": "code",
   "execution_count": 17,
   "id": "5eb2821d",
   "metadata": {},
   "outputs": [],
   "source": [
    "from numpy import asarray\n",
    "import pandas as pd\n",
    "from pandas import read_csv\n",
    "from pandas import DataFrame\n",
    "from pandas import concat\n",
    "from sklearn.metrics import mean_absolute_error\n",
    "from sklearn.ensemble import RandomForestRegressor\n",
    "from sklearn.ensemble import GradientBoostingRegressor\n",
    "from matplotlib import pyplot\n",
    "from statsmodels.tsa.holtwinters import ExponentialSmoothing\n",
    "import pandas as pd\n",
    "from datetime import date\n",
    "import numpy as np\n",
    "import datetime"
   ]
  },
  {
   "cell_type": "code",
   "execution_count": 19,
   "id": "9c3f3d62",
   "metadata": {},
   "outputs": [
    {
     "data": {
      "text/html": [
       "<div>\n",
       "<style scoped>\n",
       "    .dataframe tbody tr th:only-of-type {\n",
       "        vertical-align: middle;\n",
       "    }\n",
       "\n",
       "    .dataframe tbody tr th {\n",
       "        vertical-align: top;\n",
       "    }\n",
       "\n",
       "    .dataframe thead th {\n",
       "        text-align: right;\n",
       "    }\n",
       "</style>\n",
       "<table border=\"1\" class=\"dataframe\">\n",
       "  <thead>\n",
       "    <tr style=\"text-align: right;\">\n",
       "      <th></th>\n",
       "      <th>num</th>\n",
       "    </tr>\n",
       "    <tr>\n",
       "      <th>data</th>\n",
       "      <th></th>\n",
       "    </tr>\n",
       "  </thead>\n",
       "  <tbody>\n",
       "    <tr>\n",
       "      <th>2017/1/31</th>\n",
       "      <td>2.5</td>\n",
       "    </tr>\n",
       "    <tr>\n",
       "      <th>2017/2/28</th>\n",
       "      <td>0.8</td>\n",
       "    </tr>\n",
       "    <tr>\n",
       "      <th>2017/3/31</th>\n",
       "      <td>0.9</td>\n",
       "    </tr>\n",
       "    <tr>\n",
       "      <th>2017/4/30</th>\n",
       "      <td>1.2</td>\n",
       "    </tr>\n",
       "    <tr>\n",
       "      <th>2017/5/31</th>\n",
       "      <td>1.5</td>\n",
       "    </tr>\n",
       "    <tr>\n",
       "      <th>...</th>\n",
       "      <td>...</td>\n",
       "    </tr>\n",
       "    <tr>\n",
       "      <th>2023/10/31</th>\n",
       "      <td>-0.2</td>\n",
       "    </tr>\n",
       "    <tr>\n",
       "      <th>2023/11/30</th>\n",
       "      <td>-0.5</td>\n",
       "    </tr>\n",
       "    <tr>\n",
       "      <th>2023/12/31</th>\n",
       "      <td>-0.3</td>\n",
       "    </tr>\n",
       "    <tr>\n",
       "      <th>2024/1/31</th>\n",
       "      <td>-0.8</td>\n",
       "    </tr>\n",
       "    <tr>\n",
       "      <th>2024/2/29</th>\n",
       "      <td>0.7</td>\n",
       "    </tr>\n",
       "  </tbody>\n",
       "</table>\n",
       "<p>86 rows × 1 columns</p>\n",
       "</div>"
      ],
      "text/plain": [
       "            num\n",
       "data           \n",
       "2017/1/31   2.5\n",
       "2017/2/28   0.8\n",
       "2017/3/31   0.9\n",
       "2017/4/30   1.2\n",
       "2017/5/31   1.5\n",
       "...         ...\n",
       "2023/10/31 -0.2\n",
       "2023/11/30 -0.5\n",
       "2023/12/31 -0.3\n",
       "2024/1/31  -0.8\n",
       "2024/2/29   0.7\n",
       "\n",
       "[86 rows x 1 columns]"
      ]
     },
     "execution_count": 19,
     "metadata": {},
     "output_type": "execute_result"
    }
   ],
   "source": [
    "data = pd.read_csv('TrainingData1.csv', header=0, index_col='data')\n",
    "data"
   ]
  },
  {
   "cell_type": "markdown",
   "id": "3fa2f835",
   "metadata": {},
   "source": [
    "Для учета всего периода сезонности надо провести 12 сдвигов вперед и для прогноза 1 сдвиг в эту же сторону. Попутно уберем строки с NAN."
   ]
  },
  {
   "cell_type": "code",
   "execution_count": 7,
   "id": "b1c581b6",
   "metadata": {},
   "outputs": [],
   "source": [
    "# transform a time series dataset into a supervised learning dataset\n",
    "def series_to_supervised(data, n_in=1, n_out=1, dropnan=True):\n",
    "    n_vars = 1 if type(data) is list else data.shape[1]\n",
    "    df = pd.DataFrame(data)\n",
    "    cols = list()\n",
    "    # input sequence (t-n, ... t-1)\n",
    "    for i in range(n_in, 0, -1):\n",
    "        cols.append(df.shift(i))\n",
    "    # forecast sequence (t, t+1, ... t+n)\n",
    "    for i in range(0, n_out):\n",
    "        cols.append(df.shift(-i))\n",
    "    # put it all together\n",
    "    agg = pd.concat(cols, axis=1)\n",
    "    # drop rows with NaN values\n",
    "    if dropnan:\n",
    "        agg.dropna(inplace=True)\n",
    "    return agg.values"
   ]
  },
  {
   "cell_type": "code",
   "execution_count": 8,
   "id": "dc0dc683",
   "metadata": {},
   "outputs": [
    {
     "data": {
      "text/html": [
       "<div>\n",
       "<style scoped>\n",
       "    .dataframe tbody tr th:only-of-type {\n",
       "        vertical-align: middle;\n",
       "    }\n",
       "\n",
       "    .dataframe tbody tr th {\n",
       "        vertical-align: top;\n",
       "    }\n",
       "\n",
       "    .dataframe thead th {\n",
       "        text-align: right;\n",
       "    }\n",
       "</style>\n",
       "<table border=\"1\" class=\"dataframe\">\n",
       "  <thead>\n",
       "    <tr style=\"text-align: right;\">\n",
       "      <th></th>\n",
       "      <th>0</th>\n",
       "      <th>1</th>\n",
       "      <th>2</th>\n",
       "      <th>3</th>\n",
       "      <th>4</th>\n",
       "      <th>5</th>\n",
       "      <th>6</th>\n",
       "      <th>7</th>\n",
       "      <th>8</th>\n",
       "      <th>9</th>\n",
       "      <th>10</th>\n",
       "      <th>11</th>\n",
       "      <th>12</th>\n",
       "    </tr>\n",
       "  </thead>\n",
       "  <tbody>\n",
       "    <tr>\n",
       "      <th>0</th>\n",
       "      <td>2.5</td>\n",
       "      <td>0.8</td>\n",
       "      <td>0.9</td>\n",
       "      <td>1.2</td>\n",
       "      <td>1.5</td>\n",
       "      <td>1.5</td>\n",
       "      <td>1.4</td>\n",
       "      <td>1.8</td>\n",
       "      <td>1.6</td>\n",
       "      <td>1.9</td>\n",
       "      <td>1.7</td>\n",
       "      <td>1.8</td>\n",
       "      <td>1.5</td>\n",
       "    </tr>\n",
       "    <tr>\n",
       "      <th>1</th>\n",
       "      <td>0.8</td>\n",
       "      <td>0.9</td>\n",
       "      <td>1.2</td>\n",
       "      <td>1.5</td>\n",
       "      <td>1.5</td>\n",
       "      <td>1.4</td>\n",
       "      <td>1.8</td>\n",
       "      <td>1.6</td>\n",
       "      <td>1.9</td>\n",
       "      <td>1.7</td>\n",
       "      <td>1.8</td>\n",
       "      <td>1.5</td>\n",
       "      <td>2.9</td>\n",
       "    </tr>\n",
       "    <tr>\n",
       "      <th>2</th>\n",
       "      <td>0.9</td>\n",
       "      <td>1.2</td>\n",
       "      <td>1.5</td>\n",
       "      <td>1.5</td>\n",
       "      <td>1.4</td>\n",
       "      <td>1.8</td>\n",
       "      <td>1.6</td>\n",
       "      <td>1.9</td>\n",
       "      <td>1.7</td>\n",
       "      <td>1.8</td>\n",
       "      <td>1.5</td>\n",
       "      <td>2.9</td>\n",
       "      <td>2.1</td>\n",
       "    </tr>\n",
       "    <tr>\n",
       "      <th>3</th>\n",
       "      <td>1.2</td>\n",
       "      <td>1.5</td>\n",
       "      <td>1.5</td>\n",
       "      <td>1.4</td>\n",
       "      <td>1.8</td>\n",
       "      <td>1.6</td>\n",
       "      <td>1.9</td>\n",
       "      <td>1.7</td>\n",
       "      <td>1.8</td>\n",
       "      <td>1.5</td>\n",
       "      <td>2.9</td>\n",
       "      <td>2.1</td>\n",
       "      <td>1.8</td>\n",
       "    </tr>\n",
       "    <tr>\n",
       "      <th>4</th>\n",
       "      <td>1.5</td>\n",
       "      <td>1.5</td>\n",
       "      <td>1.4</td>\n",
       "      <td>1.8</td>\n",
       "      <td>1.6</td>\n",
       "      <td>1.9</td>\n",
       "      <td>1.7</td>\n",
       "      <td>1.8</td>\n",
       "      <td>1.5</td>\n",
       "      <td>2.9</td>\n",
       "      <td>2.1</td>\n",
       "      <td>1.8</td>\n",
       "      <td>1.8</td>\n",
       "    </tr>\n",
       "  </tbody>\n",
       "</table>\n",
       "</div>"
      ],
      "text/plain": [
       "    0    1    2    3    4    5    6    7    8    9    10   11   12\n",
       "0  2.5  0.8  0.9  1.2  1.5  1.5  1.4  1.8  1.6  1.9  1.7  1.8  1.5\n",
       "1  0.8  0.9  1.2  1.5  1.5  1.4  1.8  1.6  1.9  1.7  1.8  1.5  2.9\n",
       "2  0.9  1.2  1.5  1.5  1.4  1.8  1.6  1.9  1.7  1.8  1.5  2.9  2.1\n",
       "3  1.2  1.5  1.5  1.4  1.8  1.6  1.9  1.7  1.8  1.5  2.9  2.1  1.8\n",
       "4  1.5  1.5  1.4  1.8  1.6  1.9  1.7  1.8  1.5  2.9  2.1  1.8  1.8"
      ]
     },
     "execution_count": 8,
     "metadata": {},
     "output_type": "execute_result"
    }
   ],
   "source": [
    "n_in=12\n",
    "mydata = series_to_supervised(data, n_in=n_in, n_out=1, dropnan=True)\n",
    "pd.DataFrame(mydata).head()"
   ]
  },
  {
   "cell_type": "markdown",
   "id": "ec444bab",
   "metadata": {},
   "source": [
    "Подготовлено 12 входных рядов и 1 выходной ряд. Теперь можно приступить к построению случайного леса."
   ]
  },
  {
   "cell_type": "code",
   "execution_count": 9,
   "id": "e0955d16",
   "metadata": {},
   "outputs": [],
   "source": [
    "# split a univariate dataset into train/test sets\n",
    "def train_test_split(data, n_test):\n",
    "    return data[:-n_test, :], data[-n_test:, :]"
   ]
  },
  {
   "cell_type": "code",
   "execution_count": 10,
   "id": "02d46fc3",
   "metadata": {},
   "outputs": [],
   "source": [
    "def random_forest_forecast(train, testX):\n",
    "    # transform list into array\n",
    "    train = asarray(train)\n",
    "    # split into input and output columns\n",
    "    trainX, trainy = train[:, :-1], train[:, -1]\n",
    "    # fit model\n",
    "    isBoost = False\n",
    "    if isBoost==False :\n",
    "        model = RandomForestRegressor(n_estimators=1000)\n",
    "        model.fit(trainX, trainy)\n",
    "    else:    \n",
    "        model= GradientBoostingRegressor(n_estimators=1000).fit(trainX, trainy)\n",
    "    # make a one-step prediction\n",
    "    yhat = model.predict([testX])\n",
    "    return yhat[0]"
   ]
  },
  {
   "cell_type": "code",
   "execution_count": 11,
   "id": "09ef0c38",
   "metadata": {},
   "outputs": [],
   "source": [
    "# walk-forward validation for univariate data\n",
    "def walk_forward_validation(data, n_test):\n",
    "    predictions = list()\n",
    "    # split dataset\n",
    "    train, test = train_test_split(data, n_test)\n",
    "    # seed history with training dataset\n",
    "    history = [x for x in train]\n",
    "    # step over each time-step in the test set\n",
    "    for i in range(len(test)):\n",
    "        # split test row into input and output columns\n",
    "        testX, testy = test[i, :-1], test[i, -1]\n",
    "        # fit model on history and make a prediction\n",
    "        yhat = random_forest_forecast(history, testX)\n",
    "        # store forecast in list of predictions\n",
    "        predictions.append(yhat)\n",
    "        # add actual observation to history for the next loop\n",
    "        history.append(test[i])\n",
    "        # summarize progress\n",
    "        print('>expected=%.1f, predicted=%.1f' % (testy, yhat))\n",
    "    # estimate prediction error\n",
    "    error = mean_absolute_error(test[:, -1], predictions)\n",
    "    return error, test[:, -1], predictions"
   ]
  },
  {
   "cell_type": "code",
   "execution_count": 20,
   "id": "5406fe8f",
   "metadata": {},
   "outputs": [
    {
     "name": "stdout",
     "output_type": "stream",
     "text": [
      ">expected=0.7, predicted=1.1\n",
      ">expected=0.1, predicted=0.9\n",
      ">expected=0.2, predicted=0.7\n",
      ">expected=0.0, predicted=0.8\n",
      ">expected=-0.3, predicted=0.6\n",
      ">expected=0.1, predicted=0.7\n",
      ">expected=0.0, predicted=0.7\n",
      ">expected=-0.2, predicted=0.6\n",
      ">expected=-0.5, predicted=0.3\n",
      ">expected=-0.3, predicted=0.2\n",
      ">expected=-0.8, predicted=-0.1\n",
      ">expected=0.7, predicted=-0.4\n",
      "Time: 0:00:09.778613\n"
     ]
    }
   ],
   "source": [
    "import time\n",
    "t0 = time.time()\n",
    "n_in=12\n",
    "values = data.values\n",
    "data_new = series_to_supervised(values, n_in=n_in,n_out=1)\n",
    "mae, y, yhat = walk_forward_validation(data_new, n_in)\n",
    "t = datetime.timedelta(seconds=time.time()-t0)\n",
    "print(f'Time: {t}')"
   ]
  },
  {
   "cell_type": "markdown",
   "id": "ce3d30a9",
   "metadata": {},
   "source": [
    "Для сравнения построим прогноз на 12 часов методом Хольта-Винтерса с аддитивной сезонной компонентой."
   ]
  },
  {
   "cell_type": "code",
   "execution_count": 21,
   "id": "3cada0b3",
   "metadata": {},
   "outputs": [
    {
     "name": "stdout",
     "output_type": "stream",
     "text": [
      "            num\n",
      "data           \n",
      "2023/3/31   0.7\n",
      "2023/4/30   0.1\n",
      "2023/5/31   0.2\n",
      "2023/6/30   0.0\n",
      "2023/7/31  -0.3\n",
      "2023/8/31   0.1\n",
      "2023/9/30   0.0\n",
      "2023/10/31 -0.2\n",
      "2023/11/30 -0.5\n",
      "2023/12/31 -0.3\n",
      "2024/1/31  -0.8\n",
      "2024/2/29   0.7\n"
     ]
    }
   ],
   "source": [
    "series = pd.read_csv('TrainingData1.csv', header=0, index_col='data')\n",
    "data = pd.DataFrame(series['num'])\n",
    "data.index = series.index\n",
    "test = data.iloc[-n_in:]\n",
    "\n",
    "print(test)"
   ]
  },
  {
   "cell_type": "code",
   "execution_count": 22,
   "id": "b14737d1",
   "metadata": {},
   "outputs": [
    {
     "name": "stdout",
     "output_type": "stream",
     "text": [
      "Time: 0:00:00.110261\n"
     ]
    },
    {
     "name": "stderr",
     "output_type": "stream",
     "text": [
      "C:\\Users\\lenovo\\anaconda3\\lib\\site-packages\\statsmodels\\tsa\\base\\tsa_model.py:471: ValueWarning: No frequency information was provided, so inferred frequency M will be used.\n",
      "  self._init_dates(dates, freq)\n"
     ]
    }
   ],
   "source": [
    "test = data.iloc[-n_in:]\n",
    "\n",
    "# 开始计时\n",
    "t0 = time.time()\n",
    "\n",
    "# 拟合模型\n",
    "model = ExponentialSmoothing(data['num'], trend='add', seasonal='add', seasonal_periods=12)\n",
    "hw_model = model.fit()\n",
    "\n",
    "# 进行预测\n",
    "pred = hw_model.predict(start=test.index[0], end=test.index[-1])\n",
    "\n",
    "# 计时结束，打印耗时\n",
    "t = datetime.timedelta(seconds=time.time() - t0)\n",
    "print(f'Time: {t}')"
   ]
  },
  {
   "cell_type": "code",
   "execution_count": 23,
   "id": "8d23584a",
   "metadata": {},
   "outputs": [
    {
     "name": "stdout",
     "output_type": "stream",
     "text": [
      "MAE Holt-Winters: 0.363\n",
      "MAE Random Forest: 0.708\n"
     ]
    }
   ],
   "source": [
    "hw_error = mean_absolute_error(test, pred)\n",
    "print('MAE Holt-Winters: %.3f' % hw_error)\n",
    "print('MAE Random Forest: %.3f' % mae)"
   ]
  },
  {
   "cell_type": "code",
   "execution_count": 24,
   "id": "ecf02488",
   "metadata": {},
   "outputs": [
    {
     "data": {
      "text/plain": [
       "2023-03-31    1.014280\n",
       "2023-04-30    0.657127\n",
       "2023-05-31    0.114262\n",
       "2023-06-30    0.228533\n",
       "2023-07-31    0.028540\n",
       "2023-08-31   -0.257159\n",
       "2023-09-30    0.042860\n",
       "2023-10-31   -0.028563\n",
       "2023-11-30   -0.314256\n",
       "2023-12-31   -0.485655\n",
       "2024-01-31   -0.428526\n",
       "2024-02-29   -0.825001\n",
       "Freq: M, dtype: float64"
      ]
     },
     "execution_count": 24,
     "metadata": {},
     "output_type": "execute_result"
    }
   ],
   "source": [
    "pred"
   ]
  },
  {
   "cell_type": "markdown",
   "id": "980c3755",
   "metadata": {},
   "source": [
    "# Сравните прогнозы обоими методами на одном графике с оригинальными значениями из test "
   ]
  },
  {
   "cell_type": "markdown",
   "id": "f919bf75",
   "metadata": {},
   "source": [
    "Прогнозы, полученные ранее с помощью различных методов, отображаются на том же графике, что и исходные значения."
   ]
  },
  {
   "cell_type": "code",
   "execution_count": 28,
   "id": "9e491d97",
   "metadata": {},
   "outputs": [
    {
     "data": {
      "image/png": "[encoded data removed]",
      "text/plain": [
       "<Figure size 640x480 with 1 Axes>"
      ]
     },
     "metadata": {},
     "output_type": "display_data"
    }
   ],
   "source": [
    "test.index = pd.to_datetime(test.index)\n",
    "pred.index = pd.to_datetime(pred.index)\n",
    "pyplot.plot(test.index,y, label='Expected')\n",
    "pyplot.plot(test.index, z, label='Neural network prediction')\n",
    "pyplot.plot(test.index,yhat, label='Predicted Random Forest')\n",
    "pyplot.plot(pred.index, pred, label='Holt-Winters')\n",
    "pyplot.legend(loc='best')\n",
    "pyplot.show()"
   ]
  },
  {
   "cell_type": "code",
   "execution_count": null,
   "id": "9bf6e4b6",
   "metadata": {},
   "outputs": [],
   "source": []
  }
 ],
 "metadata": {
  "kernelspec": {
   "display_name": "Python 3 (ipykernel)",
   "language": "python",
   "name": "python3"
  },
  "language_info": {
   "codemirror_mode": {
    "name": "ipython",
    "version": 3
   },
   "file_extension": ".py",
   "mimetype": "text/x-python",
   "name": "python",
   "nbconvert_exporter": "python",
   "pygments_lexer": "ipython3",
   "version": "3.9.13"
  }
 },
 "nbformat": 4,
 "nbformat_minor": 5
}
