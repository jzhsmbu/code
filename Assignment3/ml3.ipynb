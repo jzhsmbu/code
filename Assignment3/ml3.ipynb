{
 "cells": [
  {
   "cell_type": "code",
   "execution_count": 1,
   "id": "c62c6309",
   "metadata": {},
   "outputs": [
    {
     "name": "stdout",
     "output_type": "stream",
     "text": [
      "Optimal ccp_alpha value: 0.1\n",
      "Tree regression MSE: 10.971333071187875\n"
     ]
    }
   ],
   "source": [
    "import pandas as pd\n",
    "import numpy as np\n",
    "import os\n",
    "from sklearn.tree import DecisionTreeRegressor\n",
    "from sklearn.model_selection import GridSearchCV\n",
    "from sklearn.metrics import mean_squared_error\n",
    "\n",
    "# read the data\n",
    "data = pd.read_csv(os.path.join(\"test_sample.csv\"))\n",
    "\n",
    "# separate target variable and regressors\n",
    "X = data.drop(\"Y\", axis=1)\n",
    "y = data[\"Y\"]\n",
    "\n",
    "# define the DecisionTreeRegressor model\n",
    "tree_reg = DecisionTreeRegressor(random_state=0)\n",
    "\n",
    "# set the hyperparameter grid for GridSearchCV\n",
    "param_grid = {'ccp_alpha': np.linspace(0.01, 0.1, 10)}\n",
    "\n",
    "# define GridSearchCV with 10-fold cross-validation\n",
    "grid_search = GridSearchCV(tree_reg, param_grid, cv=10, scoring='neg_mean_squared_error')\n",
    "\n",
    "# fit GridSearchCV to the data\n",
    "grid_search.fit(X, y) \n",
    "\n",
    "# get the optimal ccp_alpha value\n",
    "optimal_ccp_alpha = grid_search.best_params_['ccp_alpha']\n",
    "\n",
    "# fit the DecisionTreeRegressor with the optimal ccp_alpha\n",
    "tree_reg = DecisionTreeRegressor(ccp_alpha=optimal_ccp_alpha, random_state=0)\n",
    "tree_reg.fit(X, y)\n",
    "\n",
    "# make predictions on the data\n",
    "y_pred = tree_reg.predict(X)\n",
    "\n",
    "# calculate the mean squared error of the fitted model\n",
    "mse = mean_squared_error(y, y_pred)\n",
    "\n",
    "# print the optimal ccp_alpha value and the mean squared error of the fitted model\n",
    "print(\"Optimal ccp_alpha value:\", optimal_ccp_alpha)\n",
    "print(\"Tree regression MSE:\", mse)"
   ]
  },
  {
   "cell_type": "code",
   "execution_count": null,
   "id": "fe04eb9d",
   "metadata": {},
   "outputs": [],
   "source": []
  }
 ],
 "metadata": {
  "kernelspec": {
   "display_name": "Python 3 (ipykernel)",
   "language": "python",
   "name": "python3"
  },
  "language_info": {
   "codemirror_mode": {
    "name": "ipython",
    "version": 3
   },
   "file_extension": ".py",
   "mimetype": "text/x-python",
   "name": "python",
   "nbconvert_exporter": "python",
   "pygments_lexer": "ipython3",
   "version": "3.9.13"
  }
 },
 "nbformat": 4,
 "nbformat_minor": 5
}
