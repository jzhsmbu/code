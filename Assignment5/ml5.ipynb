{
 "cells": [
  {
   "cell_type": "code",
   "execution_count": 2,
   "id": "9f8e4b0f",
   "metadata": {},
   "outputs": [
    {
     "name": "stdout",
     "output_type": "stream",
     "text": [
      "Best parameters: {'svc__C': 20, 'svc__gamma': 10.0}\n",
      "Best mean cross-validated score: 0.8949999999999999\n"
     ]
    }
   ],
   "source": [
    "import numpy as np\n",
    "import pandas as pd\n",
    "from sklearn.pipeline import Pipeline\n",
    "from sklearn.preprocessing import MinMaxScaler\n",
    "from sklearn.model_selection import GridSearchCV\n",
    "from sklearn.svm import SVC\n",
    "\n",
    "# set the path to your local folder where you saved the data files\n",
    "data_path = \"D:/jupyter_py/5/\"\n",
    "\n",
    "# read the train and test data\n",
    "train = pd.read_csv(data_path + 'train_sample.csv')\n",
    "test = pd.read_csv(data_path + 'test_sample.csv')\n",
    "\n",
    "# split the train data into features and labels\n",
    "X_train = train[['x0', 'x1']]\n",
    "y_train = train['class']\n",
    "\n",
    "# define the pipeline with scaling and SVM\n",
    "pipe = Pipeline([('scaler', MinMaxScaler()), ('svc', SVC())])\n",
    "\n",
    "# define the parameter grid to search over\n",
    "param_grid = {'svc__gamma': 0.1**np.arange(-1, 4),\n",
    "              'svc__C': 5*np.arange(3, 6)}\n",
    "\n",
    "# perform the grid search\n",
    "grid = GridSearchCV(pipe, param_grid=param_grid, cv=5)\n",
    "grid.fit(X_train, y_train)\n",
    "\n",
    "# print the best parameters and the corresponding mean cross-validated score\n",
    "print(\"Best parameters:\", grid.best_params_)\n",
    "print(\"Best mean cross-validated score:\", grid.best_score_)\n",
    "\n",
    "# get the best model and make predictions on the test data\n",
    "best_model = grid.best_estimator_\n",
    "test_prediction = best_model.predict(test[['x0', 'x1']])\n",
    "\n",
    "# save the predictions to a submission file\n",
    "test['class'] = test_prediction\n",
    "test[['ID','class']].to_csv('submission.csv', index=False)"
   ]
  },
  {
   "cell_type": "code",
   "execution_count": null,
   "id": "bf0f11ce",
   "metadata": {},
   "outputs": [],
   "source": []
  }
 ],
 "metadata": {
  "kernelspec": {
   "display_name": "Python 3 (ipykernel)",
   "language": "python",
   "name": "python3"
  },
  "language_info": {
   "codemirror_mode": {
    "name": "ipython",
    "version": 3
   },
   "file_extension": ".py",
   "mimetype": "text/x-python",
   "name": "python",
   "nbconvert_exporter": "python",
   "pygments_lexer": "ipython3",
   "version": "3.11.5"
  }
 },
 "nbformat": 4,
 "nbformat_minor": 5
}
