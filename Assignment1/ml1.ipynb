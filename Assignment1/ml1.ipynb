{
 "cells": [
  {
   "cell_type": "code",
   "execution_count": 1,
   "id": "6b61788f",
   "metadata": {},
   "outputs": [],
   "source": [
    "import numpy as np\n",
    "import pandas as pd\n",
    "import matplotlib.pyplot as plt\n",
    "import warnings\n",
    "import statsmodels.api as sm\n",
    "from sklearn.decomposition import PCA\n",
    "\n",
    "data = pd.read_csv(\"./test_sample.csv\")\n",
    "data.describe()\n",
    "\n",
    "X = data.iloc[:,1:]\n",
    "Y = data['Y']"
   ]
  },
  {
   "cell_type": "code",
   "execution_count": 2,
   "id": "05803f82",
   "metadata": {},
   "outputs": [
    {
     "name": "stdout",
     "output_type": "stream",
     "text": [
      "smallest number R^2 > 0.9: 320\n"
     ]
    }
   ],
   "source": [
    "def find_best_model(X, Y, max_vars=491, min_r_squared=0.9):\n",
    "    for j in range(2, max_vars+1):\n",
    "        X_j = X.iloc[:, :j]\n",
    "        X_j = sm.add_constant(X_j)\n",
    "        model = sm.OLS(Y, X_j).fit()\n",
    "        r_squared = model.rsquared\n",
    "\n",
    "        if r_squared > min_r_squared:\n",
    "            return j\n",
    "\n",
    "    return None\n",
    "n_orig = find_best_model(X,Y)\n",
    "print(\"smallest number R^2 > 0.9:\",n_orig)"
   ]
  },
  {
   "cell_type": "code",
   "execution_count": 3,
   "id": "ebe8185a",
   "metadata": {},
   "outputs": [],
   "source": [
    "def pca_analysis(X, n_components=491):\n",
    "    pca = PCA(n_components=n_components)\n",
    "    pca.fit(X)\n",
    "    \n",
    "    importance = pd.DataFrame({\n",
    "        'Standard deviation': np.sqrt(pca.explained_variance_),\n",
    "        'Proportion of Variance': pca.explained_variance_ratio_,\n",
    "        'Cumulative Proportion': np.cumsum(pca.explained_variance_ratio_)\n",
    "    }, index=[f\"PC{i+1}\" for i in range(n_components)])\n",
    "\n",
    "    scores = pd.DataFrame(\n",
    "        pca.transform(X),\n",
    "        columns=[f\"PC{i+1}\" for i in range(n_components)]\n",
    "    )   \n",
    "    return importance, scores\n",
    "\n",
    "xPCA_importance, factorScores=pca_analysis(X,491)"
   ]
  },
  {
   "cell_type": "code",
   "execution_count": 4,
   "id": "51e90c2a",
   "metadata": {},
   "outputs": [
    {
     "name": "stderr",
     "output_type": "stream",
     "text": [
      "C:\\Users\\lenovo\\AppData\\Local\\Temp\\ipykernel_14304\\2384940573.py:3: FutureWarning: The default dtype for empty Series will be 'object' instead of 'float64' in a future version. Specify a dtype explicitly to silence this warning.\n",
      "  ser = pd.Series(index=names)\n"
     ]
    },
    {
     "name": "stdout",
     "output_type": "stream",
     "text": [
      "               last         first        betasq         pratt\n",
      "PC1    5.520450e-03  5.520450e-03  5.531513e-03  5.525979e-03\n",
      "PC2    1.232491e-02  1.232491e-02  1.234961e-02  1.233725e-02\n",
      "PC3    4.492875e-04  4.492875e-04  4.501879e-04  4.497375e-04\n",
      "PC4    3.378590e-02  3.378590e-02  3.385361e-02  3.381974e-02\n",
      "PC5    3.282607e-03  3.282607e-03  3.289185e-03  3.285895e-03\n",
      "...             ...           ...           ...           ...\n",
      "PC487  4.042346e-06  4.042346e-06  4.050447e-06  4.046394e-06\n",
      "PC488  6.133077e-07  6.133077e-07  6.145367e-07  6.139219e-07\n",
      "PC489  6.589760e-07  6.589760e-07  6.602966e-07  6.596360e-07\n",
      "PC490  4.114861e-10  4.114861e-10  4.123107e-10  4.118982e-10\n",
      "PC491  9.008223e-08  9.008223e-08  9.026275e-08  9.017245e-08\n",
      "\n",
      "[491 rows x 4 columns]\n",
      "PC1       41.0\n",
      "PC2       20.0\n",
      "PC3      230.0\n",
      "PC4        2.0\n",
      "PC5       79.0\n",
      "         ...  \n",
      "PC487    438.0\n",
      "PC488    473.0\n",
      "PC489    472.0\n",
      "PC490    491.0\n",
      "PC491    484.0\n",
      "Name: first, Length: 491, dtype: float64\n"
     ]
    }
   ],
   "source": [
    "def rel_imp_me(X, y):\n",
    "    names = X.columns\n",
    "    ser = pd.Series(index=names)\n",
    "    lm0 = sm.OLS(y, sm.add_constant(X)).fit()\n",
    "\n",
    "    for c in names:\n",
    "        lm = sm.OLS(y, sm.add_constant(X[names.drop(c)])).fit()\n",
    "        ser[c] = lm0.rsquared - lm.rsquared\n",
    "\n",
    "    res = pd.DataFrame(columns=['last', 'first', 'betasq', 'pratt'], index=names)\n",
    "    res['last'] = ser\n",
    "    corr = X.apply(lambda x: np.corrcoef(y, x)[0, 1], axis=0)\n",
    "    res['first'] = corr ** 2\n",
    "    sx = X.std()\n",
    "    res['betasq'] = (lm0.params[names] * sx / np.std(y)) ** 2\n",
    "    res['pratt'] = (lm0.params[names] * sx / np.std(y)) * corr\n",
    "    return res\n",
    "metrics_PCA = rel_imp_me(factorScores, Y)\n",
    "print(metrics_PCA)\n",
    "\n",
    "first_PCA_rank = metrics_PCA[\"first\"].rank(ascending=False, method='first')\n",
    "print(first_PCA_rank)\n"
   ]
  },
  {
   "cell_type": "code",
   "execution_count": 5,
   "id": "92a8874e",
   "metadata": {},
   "outputs": [],
   "source": [
    "metrics_PCA_sort = pd.DataFrame({\"Factors\" : first_PCA_rank.index,\n",
    "                                 \"Rank\" : first_PCA_rank.values}).sort_values(by=\"Rank\") \n",
    "orderedFactors = pd.DataFrame(factorScores, columns= metrics_PCA_sort[\"Factors\"])"
   ]
  },
  {
   "cell_type": "code",
   "execution_count": 6,
   "id": "c1baebd0",
   "metadata": {},
   "outputs": [],
   "source": [
    "def rSquar(j, y, X) :\n",
    "    return sm.OLS(y, sm.add_constant(X.iloc[:,:j])).fit().rsquared"
   ]
  },
  {
   "cell_type": "code",
   "execution_count": null,
   "id": "e7ac888c",
   "metadata": {},
   "outputs": [],
   "source": [
    "target_r_squared = 0.9 \n",
    "\n",
    "n_PCA = None\n",
    "model_dimensionality_reduction = None\n",
    "\n",
    "orderedPCA_R2 = [rSquar(j,Y, orderedFactors) for j in range(2,492)]\n",
    "\n",
    "for j in range(2, 492):\n",
    "    if orderedPCA_R2[j - 2] >= target_r_squared:\n",
    "        n_PCA = j\n",
    "        model_dimensionality_reduction = n_orig - n_PCA\n",
    "        print(\"Determination coefficient(R^2):\", orderedPCA_R2[j - 2])\n",
    "        break\n",
    "\n",
    "print(\"Smallest number of PCA factors:\", n_PCA)\n",
    "print(\"Model dimensionality reduction:\", model_dimensionality_reduction)\n"
   ]
  },
  {
   "cell_type": "code",
   "execution_count": null,
   "id": "6123b883",
   "metadata": {},
   "outputs": [],
   "source": []
  }
 ],
 "metadata": {
  "kernelspec": {
   "display_name": "Python 3 (ipykernel)",
   "language": "python",
   "name": "python3"
  },
  "language_info": {
   "codemirror_mode": {
    "name": "ipython",
    "version": 3
   },
   "file_extension": ".py",
   "mimetype": "text/x-python",
   "name": "python",
   "nbconvert_exporter": "python",
   "pygments_lexer": "ipython3",
   "version": "3.9.13"
  }
 },
 "nbformat": 4,
 "nbformat_minor": 5
}
