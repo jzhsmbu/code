{
 "cells": [
  {
   "cell_type": "markdown",
   "id": "f36d376d",
   "metadata": {},
   "source": [
    "# Assignment 6: Tensorflow-Keras "
   ]
  },
  {
   "cell_type": "markdown",
   "id": "4c3d0d40",
   "metadata": {},
   "source": [
    "### Data\n",
    "\n",
    "Click left sidebar Download data and save compressed (zipped) file machine_learning_06_data.zip to your local folder. Unpack it there and get your data file model_plot.png. File containes the plot of the network. Here is the example."
   ]
  },
  {
   "cell_type": "markdown",
   "id": "a00179e8",
   "metadata": {},
   "source": [
    "![](work6_image.png)"
   ]
  },
  {
   "cell_type": "markdown",
   "id": "a3bb35e4",
   "metadata": {},
   "source": [
    "This plot of sequential model has been created by `plot_model` function from `tensorflow.keras.utils`. Each block corresponds to Keras layer and provides the following information: layer name and layer type separated by colon in the left part; input and output tensor shapes in the right part with __None__ as a proxy for batch size. "
   ]
  },
  {
   "cell_type": "markdown",
   "id": "a15ff6e1",
   "metadata": {},
   "source": [
    "这个顺序模型图是由 `tensorflow.keras.utils` 中的 `plot_model` 函数创建的。 每个块对应于 Keras 层并提供以下信息：左侧部分以冒号分隔的层名称和层类型； 右侧部分的输入和输出张量形状，使用 __None__ 作为批量大小的代理。"
   ]
  },
  {
   "cell_type": "markdown",
   "id": "4c588c8c",
   "metadata": {},
   "source": [
    "### Task\n",
    "\n",
    "Define Keras sequential model correspondent to `model_plot.png` and make prediction for `data = np.arange(10).reshape((1,-1))`. This prediction (one float number) is the answer of this task. Enter it on tab Quiz. "
   ]
  },
  {
   "cell_type": "markdown",
   "id": "10e67938",
   "metadata": {},
   "source": [
    "### 任务\n",
    "\n",
    "定义对应于 `model_plot.png` 的 Keras 顺序模型，并对 `data = np.arange(10).reshape((1,-1))` 进行预测。 这个预测（一个浮点数）就是这个任务的答案。 在选项卡测验中输入它。"
   ]
  },
  {
   "cell_type": "markdown",
   "id": "f7c17e7e",
   "metadata": {},
   "source": [
    "### Tips\n",
    "\n",
    "   1. In case of Lambda layer name is elementary function, apply it to input elementwise. Since you operate with tensors, do not call numpy functions, use `tensorflow.keras.backend` ones instead. If layer name is 'min_plus_square', apply `square` to input and add `minimum` of input.\n",
    "   2. Take parameter `rate` of Dropout layer from its name.\n",
    "   3. The answers have been generated using the following setup:\n",
    "    `kernel_initializer=Identity()` in all Dense layers (do not change default bias_initializer). Use the same initialization to get correct answers.\n"
   ]
  },
  {
   "cell_type": "markdown",
   "id": "d3cfeb75",
   "metadata": {},
   "source": [
    "###  提示\n",
    "\n",
    "   1. 如果 Lambda 层名称是初等函数，将其应用于按元素输入。 由于您使用张量进行操作，因此不要调用 numpy 函数，而是使用 `tensorflow.keras.backend` 函数。 如果图层名称为“min_plus_square”，则将`square`应用于输入并添加`minimum`输入。\n",
    "   2. 从名称中获取 Dropout 层的参数 `rate`。\n",
    "   3. 使用以下设置生成答案：\n",
    "    所有 Dense 层中的 `kernel_initializer=Identity()`（不要更改默认的 bias_initializer）。 使用相同的初始化来获得正确的答案。"
   ]
  },
  {
   "cell_type": "code",
   "execution_count": 17,
   "id": "d1f221af",
   "metadata": {},
   "outputs": [],
   "source": [
    "%matplotlib inline\n",
    "from keras.models import Sequential\n",
    "from keras.layers import Dense, Dropout, Activation, Flatten, RepeatVector, Lambda, Reshape\n",
    "from keras.layers import Input, Lambda\n",
    "from keras.models import Model\n",
    "from keras.layers import concatenate\n",
    "#from keras.Initializer import Identity\n",
    "import keras.backend as backend\n",
    "import numpy as np\n",
    "import tensorflow.keras.backend as K\n",
    "from IPython.display import SVG\n",
    "from tensorflow.keras.utils import model_to_dot\n",
    "import matplotlib.pyplot as plt\n",
    "from tensorflow.keras.utils import plot_model\n",
    "import tensorflow as tf\n",
    "from math import exp\n",
    "\n",
    "model = Sequential() # create model"
   ]
  },
  {
   "cell_type": "code",
   "execution_count": 18,
   "id": "68c509d2",
   "metadata": {},
   "outputs": [],
   "source": [
    "# my task\n",
    "# 定义输入层\n",
    "dense_39_input = Input(shape=(10,), name='dense_39_input')\n",
    "\n",
    "# 构建模型层\n",
    "dense_39 = Dense(20, kernel_initializer=tf.keras.initializers.Identity(), name='dense_39')(dense_39_input)\n",
    "repeat_vector = RepeatVector(2, name='repeat_vector')(dense_39)\n",
    "flatten_39 = Flatten(name='flatten_39')(repeat_vector)\n",
    "dropout_02 = Dropout(rate=0.2, name='dropout_0.2')(flatten_39)\n",
    "relu_1 = Activation('relu', name='relu_1')(dropout_02)\n",
    "reshape = Reshape((8, 5), name='reshape')(relu_1)\n",
    "dense_40 = Dense(10, kernel_initializer=tf.keras.initializers.Identity(), name='dense_40')(reshape)\n",
    "relu_2 = Activation('relu', name='relu_2')(dense_40)\n",
    "flatten_40 = Flatten(name='flatten_40')(relu_2)\n",
    "exp = Lambda(lambda x: K.exp(x), name='exp')(flatten_40)\n",
    "dropout_01 = Dropout(rate=0.1, name='dropout_0.1')(exp)\n",
    "output_dense = Dense(3, kernel_initializer=tf.keras.initializers.Identity(), name='output')(dropout_01)\n",
    "softmax = Activation('softmax', name='softmax')(output_dense)\n",
    "max_layer = Lambda(lambda x: K.max(x, axis=1, keepdims=True), name='max')(softmax)\n",
    "\n",
    "# 创建模型实例\n",
    "model = Model(inputs=dense_39_input, outputs=max_layer)"
   ]
  },
  {
   "cell_type": "code",
   "execution_count": 13,
   "id": "8d2fa264",
   "metadata": {},
   "outputs": [],
   "source": [
    "# example\n",
    "dense_117_input = Input(shape=(10,), name='dense_117_input')\n",
    "desen_117 = Dense(20, kernel_initializer=tf.keras.initializers.identity(),name='dense_117')(dense_117_input)\n",
    "Dropout_02 = Dropout(rate = 0.2,seed = 1,name='Dropout_0.2')(desen_117)\n",
    "relu_1 = Activation('relu',name='relu_1')(Dropout_02)\n",
    "desen_reshape = Reshape((4,5),name='Reshape')(relu_1)\n",
    "desen_118 = Dense(10, kernel_initializer=tf.keras.initializers.identity(),name='dense_118')(desen_reshape)\n",
    "relu_2 = Activation('relu',name='relu_2')(desen_118)\n",
    "flatten_91 = Flatten(name='flatten_91')(relu_2)\n",
    "desen_sin = Lambda(lambda x: K.sin(x),name='sin')(flatten_91)\n",
    "Dropout_01 = Dropout(rate = 0.1,seed = 1,name='Dropout_0.1')(desen_sin)\n",
    "OutputDense = Dense(1, kernel_initializer=tf.keras.initializers.identity(),name='Output')(Dropout_01)\n",
    "outputsoftmax = Activation('softmax',name='softmax')(OutputDense)\n",
    "\n",
    "output = outputsoftmax\n",
    "model = Model(inputs=dense_117_input, outputs=output)\n",
    "# plot_model(model, to_file='model.png',show_shapes=True,show_layer_names=True)"
   ]
  },
  {
   "cell_type": "code",
   "execution_count": 19,
   "id": "88e687af",
   "metadata": {},
   "outputs": [],
   "source": [
    "data = np.arange(10).reshape((1,-1))"
   ]
  },
  {
   "cell_type": "code",
   "execution_count": 20,
   "id": "85bd4e01",
   "metadata": {},
   "outputs": [
    {
     "name": "stdout",
     "output_type": "stream",
     "text": [
      "1/1 [==============================] - 0s 69ms/step\n",
      "[[0.9890758]]\n"
     ]
    }
   ],
   "source": [
    "ans = model.predict(data)\n",
    "print(ans)"
   ]
  },
  {
   "cell_type": "code",
   "execution_count": 21,
   "id": "60ef15b2",
   "metadata": {},
   "outputs": [
    {
     "data": {
      "text/plain": [
       "array([[0, 1, 2, 3, 4, 5, 6, 7, 8, 9]])"
      ]
     },
     "execution_count": 21,
     "metadata": {},
     "output_type": "execute_result"
    }
   ],
   "source": [
    "data"
   ]
  },
  {
   "cell_type": "markdown",
   "id": "ef22e812",
   "metadata": {},
   "source": [
    "Your score = 100.\n",
    "\n",
    "Note: you have already completed this task"
   ]
  },
  {
   "cell_type": "code",
   "execution_count": null,
   "id": "c24f5d89",
   "metadata": {},
   "outputs": [],
   "source": []
  }
 ],
 "metadata": {
  "kernelspec": {
   "display_name": "Python 3 (ipykernel)",
   "language": "python",
   "name": "python3"
  },
  "language_info": {
   "codemirror_mode": {
    "name": "ipython",
    "version": 3
   },
   "file_extension": ".py",
   "mimetype": "text/x-python",
   "name": "python",
   "nbconvert_exporter": "python",
   "pygments_lexer": "ipython3",
   "version": "3.9.13"
  }
 },
 "nbformat": 4,
 "nbformat_minor": 5
}
